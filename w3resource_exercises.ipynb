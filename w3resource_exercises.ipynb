{
 "cells": [
  {
   "cell_type": "markdown",
   "id": "2b2f3050",
   "metadata": {},
   "source": [
    "# Pandas\n",
    "## Sumary\n",
    "This is a folder where I will work on the w3resource learning program for pandas for Python. \n",
    "\n",
    "## Original Resource\n",
    "\n",
    "main link: https://www.w3resource.com/python-exercises/pandas/index.php \\\n",
    "data-series link: https://www.w3resource.com/python-exercises/pandas/index-data-series.php \\\n",
    "\n",
    "## Exercises"
   ]
  },
  {
   "cell_type": "code",
   "execution_count": 1,
   "id": "05829487",
   "metadata": {},
   "outputs": [],
   "source": [
    "import pandas as pd"
   ]
  },
  {
   "cell_type": "markdown",
   "id": "aaa27fa9",
   "metadata": {},
   "source": [
    "### Exercise 1\n",
    "\n",
    "Write a Pandas program to compute difference of differences between consecutive numbers of a given series.\n",
    "\n",
    "Input Series: [1,3,5,8,10,11,15]\n",
    "\n",
    "Output Series: [Nan,2,2,3,2,1,4] and [Nan,Nan,0,1,-1,3]"
   ]
  },
  {
   "cell_type": "code",
   "execution_count": 25,
   "id": "a9ffc709",
   "metadata": {},
   "outputs": [
    {
     "name": "stdout",
     "output_type": "stream",
     "text": [
      "Original Series:\n",
      "[1, 3, 5, 8, 10, 11, 15]\n",
      "\n",
      "Output Series:\n",
      "[-14, 2, 2, 3, 2, 1, 4]\n",
      "[-18, 16, 0, 1, -1, -1, 3]\n",
      "\n",
      "########################################\n",
      "Original Series:\n",
      "[1, 3, 5, 8, 10, 11, 15]\n",
      "\n",
      "Difference of differences between consecutive numbers of the said series:\n",
      "[nan, 2.0, 2.0, 3.0, 2.0, 1.0, 4.0]\n",
      "[nan, nan, 0.0, 1.0, -1.0, -1.0, 3.0]\n"
     ]
    }
   ],
   "source": [
    "s1 = pd.Series(data=[1,3,5,8,10,11,15]) \n",
    "print(\"Original Series:\")\n",
    "print(s1.tolist())\n",
    "print(\"\\nOutput Series:\")\n",
    "\n",
    "# My approximation to the solution\n",
    "s1_diff1 = pd.Series()\n",
    "for myindex,element in enumerate(s1):\n",
    "    s1_diff1[myindex] = element-s1.iloc[myindex-1]\n",
    "print(s1_diff1.tolist())\n",
    "\n",
    "s1_diff2 = pd.Series()\n",
    "for myindex,element in enumerate(s1_diff1):\n",
    "    s1_diff2[myindex] = element-s1_diff1.iloc[myindex-1]\n",
    "print(s1_diff2.tolist())\n",
    "\n",
    "# The w3resource answer\n",
    "print(\"\\n########################################\")\n",
    "print(\"Original Series:\")\n",
    "print(s1.tolist())\n",
    "print(\"\\nDifference of differences between consecutive numbers of the said series:\")\n",
    "print(s1.diff().tolist())\n",
    "print(s1.diff().diff().tolist())"
   ]
  },
  {
   "cell_type": "markdown",
   "id": "8c26e121",
   "metadata": {},
   "source": [
    "### Exercise 2\n",
    "\n",
    "Write a Pandas program to convert a series of date strings to a timeseries.\n",
    "\n",
    "Original Series:\n",
    "\n",
    "0       01 Jan 2015\n",
    "\n",
    "1       10-02-2016\n",
    "\n",
    "2       20180307\n",
    "\n",
    "3       2014/05/06\n",
    "\n",
    "4       2016-04-12\n",
    "\n",
    "5       2019-04-06T11:20\n",
    "\n",
    "Desired Output:\n",
    "Series of date strings to a timeseries:\n",
    "\n",
    "0   2015-01-01 00:00:00\n",
    "\n",
    "1   2016-10-02 00:00:00\n",
    "\n",
    "2   2018-03-07 00:00:00\n",
    "\n",
    "3   2014-05-06 00:00:00\n",
    "\n",
    "4   2016-04-12 00:00:00\n",
    "\n",
    "5   2019-04-06 11:20:00"
   ]
  },
  {
   "cell_type": "code",
   "execution_count": 33,
   "id": "4027b685",
   "metadata": {},
   "outputs": [
    {
     "name": "stdout",
     "output_type": "stream",
     "text": [
      "Original Series:\n",
      "\n",
      "0         01 Jan 2015\n",
      "1          10-02-2016\n",
      "2            20180307\n",
      "3          2014/05/06\n",
      "4          2016-04-12\n",
      "5    2019-04-06T11:20\n",
      "dtype: object\n",
      "\n",
      "###############################\n",
      "Output:\n",
      "\n",
      "0   2015-01-01 00:00:00\n",
      "1   2016-10-02 00:00:00\n",
      "2   2018-03-07 00:00:00\n",
      "3   2014-05-06 00:00:00\n",
      "4   2016-04-12 00:00:00\n",
      "5   2019-04-06 11:20:00\n",
      "dtype: datetime64[ns]\n"
     ]
    }
   ],
   "source": [
    "s2 = pd.Series(data=[\"01 Jan 2015\",\"10-02-2016\",\"20180307\",\"2014/05/06\",\"2016-04-12\",\"2019-04-06T11:20\"])\n",
    "print(\"Original Series:\\n\")\n",
    "print(s2)\n",
    "print(\"\\n###############################\")\n",
    "\n",
    "s2_datetime=pd.to_datetime(s2, format=\"mixed\")\n",
    "print(\"Output:\\n\")\n",
    "print(s2_datetime)\n",
    "\n"
   ]
  },
  {
   "cell_type": "markdown",
   "id": "0de5f92b",
   "metadata": {},
   "source": [
    "### Exercise 3\n",
    "\n",
    "Write a Pandas program to get the day of month, day of year, week number and day of week from a given series of date strings.\n",
    "\n",
    "Sample Output: \n",
    "\n",
    "Original Series:\n",
    "\n",
    "0         01 Jan 2015\\\n",
    "1          10-02-2016\\\n",
    "2            20180307\\\n",
    "3          2014/05/06\\\n",
    "4          2016-04-12\\\n",
    "5    2019-04-06T11:20\\\n",
    "dtype: object\\\n",
    "\n",
    "Expected Output Data:\\\n",
    "Day of month:[1, 2, 7, 6, 12, 6]\\\n",
    "Day of year:[1, 276, 66, 126, 103, 96]\\\n",
    "Number of week: [1, 39, 10, 19, 15, 14]\\\n",
    "Day of week:['Thursday', 'Sunday', 'Wednesday', 'Tuesday', 'Tuesday', 'Saturday']\\"
   ]
  },
  {
   "cell_type": "code",
   "execution_count": 59,
   "id": "104f8df2",
   "metadata": {},
   "outputs": [
    {
     "name": "stdout",
     "output_type": "stream",
     "text": [
      "Day of month: [1, 2, 7, 6, 12, 6]\n",
      "Day of year: [1, 276, 66, 126, 103, 96]\n",
      "Number of week: [1, 39, 10, 19, 15, 14]\n",
      "Day's name of week: ['Thursday', 'Sunday', 'Wednesday', 'Tuesday', 'Tuesday', 'Saturday']\n"
     ]
    }
   ],
   "source": [
    "# We start from the s2_datetime series from exercise 2.\n",
    "s3 = pd.Series(data=[\"01 Jan 2015\",\"10-02-2016\",\"20180307\",\"2014/05/06\",\"2016-04-12\",\"2019-04-06T11:20\"])\n",
    "s3_datetime = pd.to_datetime(s3, format=\"mixed\")\n",
    "\n",
    "print(\"Day of month:\", s3_datetime.map(lambda x: int(str(x)[8:10])).tolist())\n",
    "print(\"Day of year:\",s3_datetime.dt.day_of_year.tolist())\n",
    "print(\"Number of week:\",s3_datetime.dt.isocalendar()[\"week\"].tolist())\n",
    "print(\"Day's name of week:\",s3_datetime.dt.day_name().tolist())"
   ]
  },
  {
   "cell_type": "markdown",
   "id": "2bf41159",
   "metadata": {},
   "source": [
    "### Exercise 4\n",
    "\n",
    "Write a Pandas program to convert year-month string to dates adding a specified day of the month.\n",
    "\n",
    "Sample Output:\n",
    "\n",
    "Original Series:\\\n",
    "0    Jan 2015\\\n",
    "1    Feb 2016\\\n",
    "2    Mar 2017\\\n",
    "3    Apr 2018\\\n",
    "4    May 2019\\\n",
    "dtype: object\\\n",
    "\n",
    "\n",
    "New dates:\\\n",
    "0   2015-01-11\\\n",
    "1   2016-02-11\\\n",
    "2   2017-03-11\\\n",
    "3   2018-04-11\\\n",
    "4   2019-05-11\\\n",
    "dtype: datetime64[ns] \n"
   ]
  },
  {
   "cell_type": "code",
   "execution_count": 92,
   "id": "eeb6c4ef",
   "metadata": {},
   "outputs": [
    {
     "name": "stdout",
     "output_type": "stream",
     "text": [
      "Output Result\n",
      "0    2015-01-11\n",
      "1    2016-02-11\n",
      "2    2017-03-11\n",
      "3    2018-04-11\n",
      "4    2019-05-11\n",
      "dtype: object\n",
      "\n",
      "############################\n",
      "Original Series:\n",
      "0    Jan 2015\n",
      "1    Feb 2016\n",
      "2    Mar 2017\n",
      "3    Apr 2018\n",
      "4    May 2019\n",
      "dtype: object\n",
      "\n",
      "New dates:\n",
      "0    11 Jan 2015\n",
      "1    11 Feb 2016\n",
      "2    11 Mar 2017\n",
      "3    11 Apr 2018\n",
      "4    11 May 2019\n",
      "dtype: object\n"
     ]
    }
   ],
   "source": [
    "# My propposed Solution\n",
    "s4 = pd.Series(data=[\"Jan 2015\",\"Feb 2016\",\"Mar 2017\",\"Apr 2018\",\"May 2019\"])\n",
    "inputted_day_of_month:int = 11\n",
    "\n",
    "s4_datetime = pd.to_datetime(s4, format=\"mixed\")\n",
    "s4_result:pd.Series = s4_datetime.map(lambda x: str(x)[0:8]+str(inputted_day_of_month))\n",
    "\n",
    "print(\"Output Result\")\n",
    "print(s4_result)\n",
    "\n",
    "# w3resource proposed solution\n",
    "print(\"\\n############################\")\n",
    "print(\"Original Series:\")\n",
    "print(s4)\n",
    "print(\"\\nNew dates:\")\n",
    "s4_result_w3resource = s4.map(lambda d: (\"11 \"+ str(d)))\n",
    "print(s4_result_w3resource)"
   ]
  },
  {
   "cell_type": "markdown",
   "id": "bd73557a",
   "metadata": {},
   "source": [
    "### Exercise 5\n",
    "Write a Pandas program to filter words from a given series that contain atleast two vowels.\n",
    "\n",
    "Sample Output: \n",
    "Original Series: \\\n",
    "0       Red \\\n",
    "1     Green \\\n",
    "2    Orange \\\n",
    "3      Pink \\\n",
    "4    Yellow \\\n",
    "5     White \\\n",
    "dtype: object\n",
    "\n",
    "Filtered words: \\\n",
    "1     Green\\\n",
    "2    Orange\\\n",
    "4    Yellow\\\n",
    "5     White\\\n",
    "dtype: object"
   ]
  },
  {
   "cell_type": "code",
   "execution_count": null,
   "id": "a0d2ac83",
   "metadata": {},
   "outputs": [
    {
     "data": {
      "text/plain": [
       "1     Green\n",
       "2    Orange\n",
       "4    Yellow\n",
       "5     White\n",
       "dtype: object"
      ]
     },
     "execution_count": 112,
     "metadata": {},
     "output_type": "execute_result"
    }
   ],
   "source": [
    "s5 = pd.Series(data=[\"Red\",\"Green\",\"Orange\",\"Pink\",\"Yellow\",\"White\"])\n",
    "contains_at_leas_this_many_letters = 2\n",
    "letters:list[str] = [\"a\",\"e\",\"i\",\"o\",\"u\"]\n",
    "\n",
    "# Import the Counter from the Python Buuiltin Libraries. This is the class that will help us count how many of each letter is there in the word\n",
    "from collections import Counter\n",
    "\n",
    "# For each color, Count how many of each letters are in each word. Then compare to see if it is greater than contains_at_leas_this_many_letters\n",
    "s5_result_mask = s5.map(lambda color : sum(Counter(color.lower()).get(letter,0) for letter in letters)>=contains_at_leas_this_many_letters)\n",
    "s5[s5_result_mask]\n"
   ]
  },
  {
   "cell_type": "markdown",
   "id": "05fcaf92",
   "metadata": {},
   "source": [
    "### Exercise 6 \\\n",
    "Write a Pandas program to compute the Euclidean distance between two given series. \n",
    "\n",
    "Euclidean distance \\\n",
    "From Wikipedia, \\\n",
    "In mathematics, the Euclidean distance or Euclidean metric is the \"ordinary\" straight-line distance between two points in Euclidean space (in a n-dimensional space). With this distance, Euclidean space becomes a metric space. The associated norm is called the Euclidean norm. \\\n",
    "\n",
    "Sample INPUT: \\\n",
    "Original series: \\\n",
    "0       1 \\\n",
    "1       2 \\\n",
    "2       3 \\\n",
    "3       4 \\\n",
    "4       5 \\\n",
    "5       6 \\\n",
    "6       7 \\\n",
    "7       8 \\\n",
    "8       9 \\\n",
    "9       0 \\\n",
    "dtype: int64 \\\n",
    "\n",
    "0       11 \\\n",
    "1        8 \\\n",
    "2        7 \\\n",
    "3        5 \\\n",
    "4        6 \\\n",
    "5        5 \\\n",
    "6        3 \\\n",
    "7        4 \\\n",
    "8        7 \\\n",
    "9        1 \\\n",
    "dtype: int64 \\\n",
    "\n",
    "\n",
    "Euclidean distance between two said series: \\\n",
    "16.492422502470642"
   ]
  },
  {
   "cell_type": "code",
   "execution_count": null,
   "id": "1b0cbb1a",
   "metadata": {},
   "outputs": [
    {
     "name": "stdout",
     "output_type": "stream",
     "text": [
      "0    10\n",
      "1     6\n",
      "2     4\n",
      "3     1\n",
      "4     1\n",
      "5    -1\n",
      "6    -4\n",
      "7    -4\n",
      "8    -2\n",
      "9    -9\n",
      "dtype: int64\n"
     ]
    },
    {
     "data": {
      "text/plain": [
       "16.492422502470642"
      ]
     },
     "execution_count": 127,
     "metadata": {},
     "output_type": "execute_result"
    }
   ],
   "source": [
    "s6_Point1 = pd.Series([1, 2, 3, 4, 5, 6, 7, 8, 9, 10])\n",
    "s6_Point2 = pd.Series([11, 8, 7, 5, 6, 5, 3, 4, 7, 1])\n",
    "\n",
    "# My propposition\n",
    "import math \n",
    "s6_euclidean_diff:pd.Series = s6_Point2-s6_Point1\n",
    "s6_result = math.sqrt((s6_euclidean_diff**2).sum())\n",
    "s6_result\n",
    "\n",
    "# w3resource's propposition\n",
    "import numpy as np\n",
    "print(\"\\nEuclidean distance between two said series:\")\n",
    "s6_result = np.linalg.norm(s6_Point2-s6_Point1)\n",
    "print(s6_result)"
   ]
  },
  {
   "cell_type": "markdown",
   "id": "19ebc251",
   "metadata": {},
   "source": [
    "### Exercise 7 \n",
    "Write a Pandas program to find the positions of the values neighboured by smaller values on both sides in a given series. \\\n",
    "\n",
    "Sample Input: \\\n",
    "Original series: \\\n",
    "0    1 \\\n",
    "1    8 \\\n",
    "2    7 \\\n",
    "3    5 \\\n",
    "4    6 \\\n",
    "5    5 \\\n",
    "6    3 \\\n",
    "7    4 \\\n",
    "8    7 \\\n",
    "9    1 \\\n",
    "dtype: int64 \n",
    "\n",
    "Positions of the values surrounded by smaller values on both sides: \n",
    "[1 4 8]"
   ]
  },
  {
   "cell_type": "code",
   "execution_count": null,
   "id": "00886212",
   "metadata": {},
   "outputs": [
    {
     "name": "stdout",
     "output_type": "stream",
     "text": [
      "[False, False, False, False, False, False, False, False, False, False]\n",
      "0\n",
      "1\n",
      "2\n",
      "3\n",
      "4\n",
      "5\n",
      "6\n",
      "7\n",
      "8\n",
      "9\n",
      "[False, True, False, False, True, False, False, False, True, False]\n",
      "[1, 4, 8]\n"
     ]
    }
   ],
   "source": [
    "s7 = pd.Series(data=[1,8,7,5,6,5,3,4,7,1])\n",
    "\n",
    "# My propposition\n",
    "len_s7,  = s7.shape\n",
    "s7_result_mask:list[bool] = [False]*len_s7\n",
    "print(s7_result_mask)\n",
    "\n",
    "for idx, s in enumerate(s7, start=0):\n",
    "    if s7.iloc[idx-1]<s and s7.iloc[idx+1]<s:\n",
    "        s7_result_mask[idx] = True\n",
    "\n",
    "print(s7_result_mask)\n",
    "\n",
    "s7_result = s7[s7_result_mask].index.tolist()\n",
    "print(s7_result)\n",
    "\n",
    "###################################3\n",
    "# w3resource proppositoin\n",
    "s7 = pd.Series([1, 8, 7, 5, 6, 5, 3, 4, 7, 1])\n",
    "print(\"Original series:\")\n",
    "print(s7)\n",
    "print(\"\\nPositions of the values surrounded by smaller values on both sides:\")\n",
    "temp = np.diff(np.sign(np.diff(s7)))\n",
    "s7_result = np.where(temp == -2)[0] + 1\n",
    "print(s7_result)\n",
    "\n"
   ]
  }
 ],
 "metadata": {
  "kernelspec": {
   "display_name": "Python 3",
   "language": "python",
   "name": "python3"
  },
  "language_info": {
   "codemirror_mode": {
    "name": "ipython",
    "version": 3
   },
   "file_extension": ".py",
   "mimetype": "text/x-python",
   "name": "python",
   "nbconvert_exporter": "python",
   "pygments_lexer": "ipython3",
   "version": "3.11.9"
  }
 },
 "nbformat": 4,
 "nbformat_minor": 5
}
